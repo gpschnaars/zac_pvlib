{
 "metadata": {
  "language_info": {
   "codemirror_mode": {
    "name": "ipython",
    "version": 3
   },
   "file_extension": ".py",
   "mimetype": "text/x-python",
   "name": "python",
   "nbconvert_exporter": "python",
   "pygments_lexer": "ipython3",
   "version": "3.7.4-final"
  },
  "orig_nbformat": 2,
  "kernelspec": {
   "name": "python3",
   "display_name": "Python 3",
   "language": "python"
  }
 },
 "nbformat": 4,
 "nbformat_minor": 2,
 "cells": [
  {
   "cell_type": "code",
   "execution_count": null,
   "metadata": {},
   "outputs": [],
   "source": []
  },
  {
   "cell_type": "code",
   "execution_count": null,
   "metadata": {},
   "outputs": [],
   "source": []
  },
  {
   "cell_type": "code",
   "execution_count": 1,
   "metadata": {},
   "outputs": [],
   "source": [
    "import os\n",
    "\n",
    "import pandas as pd, numpy as np"
   ]
  },
  {
   "cell_type": "code",
   "execution_count": 2,
   "metadata": {},
   "outputs": [],
   "source": [
    "import pvlib\n",
    "from pvlib.pvsystem import PVSystem\n",
    "from pvlib.location import Location\n",
    "from pvlib.modelchain import ModelChain\n",
    "from pvlib.temperature import TEMPERATURE_MODEL_PARAMETERS"
   ]
  },
  {
   "cell_type": "code",
   "execution_count": 3,
   "metadata": {},
   "outputs": [
    {
     "output_type": "execute_result",
     "data": {
      "text/plain": [
       "{'a': -3.47, 'b': -0.0594, 'deltaT': 3}"
      ]
     },
     "metadata": {},
     "execution_count": 3
    }
   ],
   "source": [
    "temperature_model_parameters = TEMPERATURE_MODEL_PARAMETERS['sapm']['open_rack_glass_glass']\n",
    "temperature_model_parameters"
   ]
  },
  {
   "cell_type": "code",
   "execution_count": 4,
   "metadata": {},
   "outputs": [
    {
     "output_type": "execute_result",
     "data": {
      "text/plain": [
       "PVSystem:\n",
       "  name: None\n",
       "  surface_tilt: 0\n",
       "  surface_azimuth: 180\n",
       "  module: None\n",
       "  inverter: None\n",
       "  albedo: 0.25\n",
       "  racking_model: None\n",
       "  module_type: None\n",
       "  temperature_model_parameters: {'a': -3.47, 'b': -0.0594, 'deltaT': 3}"
      ]
     },
     "metadata": {},
     "execution_count": 4
    }
   ],
   "source": [
    "pvwatts_system = PVSystem(\n",
    "    module_parameters={'pdc0': 240, 'gamma_pdc': -0.004},\n",
    "    inverter_parameters={'pdc0': 240},\n",
    "    temperature_model_parameters=temperature_model_parameters)\n",
    "pvwatts_system"
   ]
  },
  {
   "cell_type": "code",
   "execution_count": 5,
   "metadata": {},
   "outputs": [],
   "source": [
    "naive_times = pd.date_range(start='1981', end='1990', freq='1h',closed='left')\n",
    "times = naive_times.tz_localize('Etc/Greenwich') #as Asia/Kolkata"
   ]
  },
  {
   "cell_type": "code",
   "execution_count": 6,
   "metadata": {},
   "outputs": [],
   "source": [
    "df_locations = pd.read_csv('63Locations.csv')"
   ]
  },
  {
   "cell_type": "code",
   "execution_count": 7,
   "metadata": {},
   "outputs": [
    {
     "output_type": "execute_result",
     "data": {
      "text/plain": [
       "    Latitude  Longitude     Altitude              State\n",
       "0       14.6       77.5   441.519950     Andhra Pradesh\n",
       "1       14.6       78.5   203.984686     Andhra Pradesh\n",
       "2       15.9       78.4   374.050592     Andhra Pradesh\n",
       "3       16.4       81.5     8.404402     Andhra Pradesh\n",
       "4       29.0       96.4  3970.050600  Arunachal Pradesh\n",
       "..       ...        ...          ...                ...\n",
       "58      18.9       78.3   342.337298          Telangana\n",
       "59      28.8       78.0   209.734405      Uttar Pradesh\n",
       "60      27.1       83.3    87.103681      Uttar Pradesh\n",
       "61      29.1       79.3   196.348341        Uttarakhand\n",
       "62      22.6       88.8     3.642916        West Bengal\n",
       "\n",
       "[63 rows x 4 columns]"
      ],
      "text/html": "<div>\n<style scoped>\n    .dataframe tbody tr th:only-of-type {\n        vertical-align: middle;\n    }\n\n    .dataframe tbody tr th {\n        vertical-align: top;\n    }\n\n    .dataframe thead th {\n        text-align: right;\n    }\n</style>\n<table border=\"1\" class=\"dataframe\">\n  <thead>\n    <tr style=\"text-align: right;\">\n      <th></th>\n      <th>Latitude</th>\n      <th>Longitude</th>\n      <th>Altitude</th>\n      <th>State</th>\n    </tr>\n  </thead>\n  <tbody>\n    <tr>\n      <th>0</th>\n      <td>14.6</td>\n      <td>77.5</td>\n      <td>441.519950</td>\n      <td>Andhra Pradesh</td>\n    </tr>\n    <tr>\n      <th>1</th>\n      <td>14.6</td>\n      <td>78.5</td>\n      <td>203.984686</td>\n      <td>Andhra Pradesh</td>\n    </tr>\n    <tr>\n      <th>2</th>\n      <td>15.9</td>\n      <td>78.4</td>\n      <td>374.050592</td>\n      <td>Andhra Pradesh</td>\n    </tr>\n    <tr>\n      <th>3</th>\n      <td>16.4</td>\n      <td>81.5</td>\n      <td>8.404402</td>\n      <td>Andhra Pradesh</td>\n    </tr>\n    <tr>\n      <th>4</th>\n      <td>29.0</td>\n      <td>96.4</td>\n      <td>3970.050600</td>\n      <td>Arunachal Pradesh</td>\n    </tr>\n    <tr>\n      <th>...</th>\n      <td>...</td>\n      <td>...</td>\n      <td>...</td>\n      <td>...</td>\n    </tr>\n    <tr>\n      <th>58</th>\n      <td>18.9</td>\n      <td>78.3</td>\n      <td>342.337298</td>\n      <td>Telangana</td>\n    </tr>\n    <tr>\n      <th>59</th>\n      <td>28.8</td>\n      <td>78.0</td>\n      <td>209.734405</td>\n      <td>Uttar Pradesh</td>\n    </tr>\n    <tr>\n      <th>60</th>\n      <td>27.1</td>\n      <td>83.3</td>\n      <td>87.103681</td>\n      <td>Uttar Pradesh</td>\n    </tr>\n    <tr>\n      <th>61</th>\n      <td>29.1</td>\n      <td>79.3</td>\n      <td>196.348341</td>\n      <td>Uttarakhand</td>\n    </tr>\n    <tr>\n      <th>62</th>\n      <td>22.6</td>\n      <td>88.8</td>\n      <td>3.642916</td>\n      <td>West Bengal</td>\n    </tr>\n  </tbody>\n</table>\n<p>63 rows × 4 columns</p>\n</div>"
     },
     "metadata": {},
     "execution_count": 7
    }
   ],
   "source": [
    "df_locations"
   ]
  },
  {
   "cell_type": "code",
   "execution_count": 233,
   "metadata": {},
   "outputs": [
    {
     "output_type": "stream",
     "name": "stdout",
     "text": [
      "0 Andhra Pradesh\n1 Andhra Pradesh\n2 Andhra Pradesh\n3 Andhra Pradesh\n4 Arunachal Pradesh\n5 Assam\n6 Bihar\n7 Bihar\n8 Chhattisgarh\n9 Delhi\n10 Goa\n11 Gujarat\n12 Gujarat\n13 Gujarat\n14 Gujarat\n15 Gujarat\n16 Haryana\n17 Haryana\n18 Himachal Pradesh\n19 Himachal Pradesh\n20 Jammu & Kashmir\n21 Jammu & Kashmir\n22 Jammu & Kashmir\n23 Jammu & Kashmir\n24 Jammu & Kashmir\n25 Jharkhand\n26 Jharkhand\n27 Karnataka\n28 Karnataka\n29 Karnataka\n30 Karnataka\n31 Karnataka\n32 Kerala\n33 Madhya Pradesh\n34 Madhya Pradesh\n35 Maharashtra\n36 Maharashtra\n37 Maharashtra\n38 Maharashtra\n39 Maharashtra\n40 Maharashtra\n41 Manipur\n42 Meghalaya\n43 Mizoram\n44 Nagaland\n45 Orissa\n46 Orissa\n47 Puducherry\n48 Punjab\n49 Rajasthan\n50 Rajasthan\n51 Rajasthan\n52 Rajasthan\n53 Rajasthan\n54 Rajasthan\n55 Rajasthan\n56 Tamil Nadu\n57 Telangana\n58 Telangana\n59 Uttar Pradesh\n60 Uttar Pradesh\n61 Uttarakhand\n62 West Bengal\n"
     ]
    }
   ],
   "source": [
    "for i, lat, lon, alt, state in df_locations.itertuples():\n",
    "    print(i, state)"
   ]
  },
  {
   "cell_type": "code",
   "execution_count": 10,
   "metadata": {},
   "outputs": [
    {
     "output_type": "execute_result",
     "data": {
      "text/plain": [
       "Location: \n",
       "  name: Andhra Pradesh\n",
       "  latitude: 14.6\n",
       "  longitude: 77.5\n",
       "  altitude: 441.5199504\n",
       "  tz: UTC"
      ]
     },
     "metadata": {},
     "execution_count": 10
    }
   ],
   "source": [
    "location"
   ]
  },
  {
   "cell_type": "code",
   "execution_count": 11,
   "metadata": {},
   "outputs": [],
   "source": [
    "mc = ModelChain(pvwatts_system, location, aoi_model = 'physical', spectral_model = 'no_loss')"
   ]
  },
  {
   "cell_type": "code",
   "execution_count": 13,
   "metadata": {},
   "outputs": [
    {
     "output_type": "execute_result",
     "data": {
      "text/plain": [
       "ModelChain: \n",
       "  name: None\n",
       "  orientation_strategy: None\n",
       "  clearsky_model: ineichen\n",
       "  transposition_model: haydavies\n",
       "  solar_position_method: nrel_numpy\n",
       "  airmass_model: kastenyoung1989\n",
       "  dc_model: pvwatts_dc\n",
       "  ac_model: pvwatts_inverter\n",
       "  aoi_model: physical_aoi_loss\n",
       "  spectral_model: no_spectral_loss\n",
       "  temperature_model: sapm_temp\n",
       "  losses_model: no_extra_losses"
      ]
     },
     "metadata": {},
     "execution_count": 13
    }
   ],
   "source": [
    "mc"
   ]
  },
  {
   "cell_type": "code",
   "execution_count": 44,
   "metadata": {},
   "outputs": [],
   "source": [
    "df_ghi  = pd.read_csv(\"Raw_SSRD_63Locations_1981.csv\", header = None)*1000\n",
    "df_temp = pd.read_csv(\"63Locations_2mTempC_1981.csv\", header = None)\n",
    "df_wind = pd.read_csv(\"Wind_1m_63Locations_1981.csv\", header = None)"
   ]
  },
  {
   "cell_type": "code",
   "execution_count": 48,
   "metadata": {},
   "outputs": [
    {
     "output_type": "execute_result",
     "data": {
      "text/plain": [
       "               0           1           2           3           4           5   \\\n",
       "0        0.000000    0.000000    0.000000    0.000000    0.000000    0.000000   \n",
       "1       33.252963   40.950408   34.330605   56.191349  151.177821   92.369341   \n",
       "2      221.532469  238.312899  218.761388  249.397220  364.858896  278.955409   \n",
       "3      445.220222  458.151930  438.138572  453.379514  525.427599  448.914995   \n",
       "4      637.502399  642.736662  625.648334  628.419414  606.250772  598.553327   \n",
       "...           ...         ...         ...         ...         ...         ...   \n",
       "78882    0.000000    0.000000    0.000000    0.000000    0.000000    0.000000   \n",
       "78883    0.000000    0.000000    0.000000    0.000000    0.000000    0.000000   \n",
       "78884    0.000000    0.000000    0.000000    0.000000    0.000000    0.000000   \n",
       "78885    0.000000    0.000000    0.000000    0.000000    0.000000    0.000000   \n",
       "78886    0.000000    0.000000    0.000000    0.000000    0.000000    0.000000   \n",
       "\n",
       "               6           7           8           9   ...          53  \\\n",
       "0        0.000000    0.000000    0.000000    0.000000  ...    0.000000   \n",
       "1       30.943729   64.350641   41.566203    1.539489  ...    0.000000   \n",
       "2      186.278170  255.093329  225.689089  101.144428  ...   67.583568   \n",
       "3      371.170800  447.375506  429.671383  290.039730  ...  255.247278   \n",
       "4      523.888110  598.091481  596.859889  462.462499  ...  440.909653   \n",
       "...           ...         ...         ...         ...  ...         ...   \n",
       "78882    0.000000    0.000000    0.000000    0.000000  ...    0.000000   \n",
       "78883    0.000000    0.000000    0.000000    0.000000  ...    0.000000   \n",
       "78884    0.000000    0.000000    0.000000    0.000000  ...    0.000000   \n",
       "78885    0.000000    0.000000    0.000000    0.000000  ...    0.000000   \n",
       "78886    0.000000    0.000000    0.000000    0.000000  ...    0.000000   \n",
       "\n",
       "               54          55          56          57          58          59  \\\n",
       "0        0.000000    0.000000    0.000000    0.000000    0.000000    0.000000   \n",
       "1        0.000000    0.000000   16.318584   31.559525   23.862080    2.771080   \n",
       "2       49.417597   66.659874   51.880780  212.141586  193.513769  110.535311   \n",
       "3      232.924687  259.403898  126.392048  430.749025  406.425099  299.122715   \n",
       "4      425.360814  451.686076  215.990308  615.949553  589.162444  468.466506   \n",
       "...           ...         ...         ...         ...         ...         ...   \n",
       "78882    0.000000    0.000000    0.000000    0.000000    0.000000    0.000000   \n",
       "78883    0.000000    0.000000    0.000000    0.000000    0.000000    0.000000   \n",
       "78884    0.000000    0.000000    0.000000    0.000000    0.000000    0.000000   \n",
       "78885    0.000000    0.000000    0.000000    0.000000    0.000000    0.000000   \n",
       "78886    0.000000    0.000000    0.000000    0.000000    0.000000    0.000000   \n",
       "\n",
       "               60          61          62  \n",
       "0        0.000000    0.000000    0.000000  \n",
       "1       26.787109    5.234263  103.607610  \n",
       "2      185.816324  124.698610  304.203028  \n",
       "3      376.559012  313.439963  493.868075  \n",
       "4      518.961745  478.781082  637.040553  \n",
       "...           ...         ...         ...  \n",
       "78882    0.000000    0.000000    0.000000  \n",
       "78883    0.000000    0.000000    0.000000  \n",
       "78884    0.000000    0.000000    0.000000  \n",
       "78885    0.000000    0.000000    0.000000  \n",
       "78886    0.000000    0.000000    0.000000  \n",
       "\n",
       "[78887 rows x 63 columns]"
      ],
      "text/html": "<div>\n<style scoped>\n    .dataframe tbody tr th:only-of-type {\n        vertical-align: middle;\n    }\n\n    .dataframe tbody tr th {\n        vertical-align: top;\n    }\n\n    .dataframe thead th {\n        text-align: right;\n    }\n</style>\n<table border=\"1\" class=\"dataframe\">\n  <thead>\n    <tr style=\"text-align: right;\">\n      <th></th>\n      <th>0</th>\n      <th>1</th>\n      <th>2</th>\n      <th>3</th>\n      <th>4</th>\n      <th>5</th>\n      <th>6</th>\n      <th>7</th>\n      <th>8</th>\n      <th>9</th>\n      <th>...</th>\n      <th>53</th>\n      <th>54</th>\n      <th>55</th>\n      <th>56</th>\n      <th>57</th>\n      <th>58</th>\n      <th>59</th>\n      <th>60</th>\n      <th>61</th>\n      <th>62</th>\n    </tr>\n  </thead>\n  <tbody>\n    <tr>\n      <th>0</th>\n      <td>0.000000</td>\n      <td>0.000000</td>\n      <td>0.000000</td>\n      <td>0.000000</td>\n      <td>0.000000</td>\n      <td>0.000000</td>\n      <td>0.000000</td>\n      <td>0.000000</td>\n      <td>0.000000</td>\n      <td>0.000000</td>\n      <td>...</td>\n      <td>0.000000</td>\n      <td>0.000000</td>\n      <td>0.000000</td>\n      <td>0.000000</td>\n      <td>0.000000</td>\n      <td>0.000000</td>\n      <td>0.000000</td>\n      <td>0.000000</td>\n      <td>0.000000</td>\n      <td>0.000000</td>\n    </tr>\n    <tr>\n      <th>1</th>\n      <td>33.252963</td>\n      <td>40.950408</td>\n      <td>34.330605</td>\n      <td>56.191349</td>\n      <td>151.177821</td>\n      <td>92.369341</td>\n      <td>30.943729</td>\n      <td>64.350641</td>\n      <td>41.566203</td>\n      <td>1.539489</td>\n      <td>...</td>\n      <td>0.000000</td>\n      <td>0.000000</td>\n      <td>0.000000</td>\n      <td>16.318584</td>\n      <td>31.559525</td>\n      <td>23.862080</td>\n      <td>2.771080</td>\n      <td>26.787109</td>\n      <td>5.234263</td>\n      <td>103.607610</td>\n    </tr>\n    <tr>\n      <th>2</th>\n      <td>221.532469</td>\n      <td>238.312899</td>\n      <td>218.761388</td>\n      <td>249.397220</td>\n      <td>364.858896</td>\n      <td>278.955409</td>\n      <td>186.278170</td>\n      <td>255.093329</td>\n      <td>225.689089</td>\n      <td>101.144428</td>\n      <td>...</td>\n      <td>67.583568</td>\n      <td>49.417597</td>\n      <td>66.659874</td>\n      <td>51.880780</td>\n      <td>212.141586</td>\n      <td>193.513769</td>\n      <td>110.535311</td>\n      <td>185.816324</td>\n      <td>124.698610</td>\n      <td>304.203028</td>\n    </tr>\n    <tr>\n      <th>3</th>\n      <td>445.220222</td>\n      <td>458.151930</td>\n      <td>438.138572</td>\n      <td>453.379514</td>\n      <td>525.427599</td>\n      <td>448.914995</td>\n      <td>371.170800</td>\n      <td>447.375506</td>\n      <td>429.671383</td>\n      <td>290.039730</td>\n      <td>...</td>\n      <td>255.247278</td>\n      <td>232.924687</td>\n      <td>259.403898</td>\n      <td>126.392048</td>\n      <td>430.749025</td>\n      <td>406.425099</td>\n      <td>299.122715</td>\n      <td>376.559012</td>\n      <td>313.439963</td>\n      <td>493.868075</td>\n    </tr>\n    <tr>\n      <th>4</th>\n      <td>637.502399</td>\n      <td>642.736662</td>\n      <td>625.648334</td>\n      <td>628.419414</td>\n      <td>606.250772</td>\n      <td>598.553327</td>\n      <td>523.888110</td>\n      <td>598.091481</td>\n      <td>596.859889</td>\n      <td>462.462499</td>\n      <td>...</td>\n      <td>440.909653</td>\n      <td>425.360814</td>\n      <td>451.686076</td>\n      <td>215.990308</td>\n      <td>615.949553</td>\n      <td>589.162444</td>\n      <td>468.466506</td>\n      <td>518.961745</td>\n      <td>478.781082</td>\n      <td>637.040553</td>\n    </tr>\n    <tr>\n      <th>...</th>\n      <td>...</td>\n      <td>...</td>\n      <td>...</td>\n      <td>...</td>\n      <td>...</td>\n      <td>...</td>\n      <td>...</td>\n      <td>...</td>\n      <td>...</td>\n      <td>...</td>\n      <td>...</td>\n      <td>...</td>\n      <td>...</td>\n      <td>...</td>\n      <td>...</td>\n      <td>...</td>\n      <td>...</td>\n      <td>...</td>\n      <td>...</td>\n      <td>...</td>\n      <td>...</td>\n    </tr>\n    <tr>\n      <th>78882</th>\n      <td>0.000000</td>\n      <td>0.000000</td>\n      <td>0.000000</td>\n      <td>0.000000</td>\n      <td>0.000000</td>\n      <td>0.000000</td>\n      <td>0.000000</td>\n      <td>0.000000</td>\n      <td>0.000000</td>\n      <td>0.000000</td>\n      <td>...</td>\n      <td>0.000000</td>\n      <td>0.000000</td>\n      <td>0.000000</td>\n      <td>0.000000</td>\n      <td>0.000000</td>\n      <td>0.000000</td>\n      <td>0.000000</td>\n      <td>0.000000</td>\n      <td>0.000000</td>\n      <td>0.000000</td>\n    </tr>\n    <tr>\n      <th>78883</th>\n      <td>0.000000</td>\n      <td>0.000000</td>\n      <td>0.000000</td>\n      <td>0.000000</td>\n      <td>0.000000</td>\n      <td>0.000000</td>\n      <td>0.000000</td>\n      <td>0.000000</td>\n      <td>0.000000</td>\n      <td>0.000000</td>\n      <td>...</td>\n      <td>0.000000</td>\n      <td>0.000000</td>\n      <td>0.000000</td>\n      <td>0.000000</td>\n      <td>0.000000</td>\n      <td>0.000000</td>\n      <td>0.000000</td>\n      <td>0.000000</td>\n      <td>0.000000</td>\n      <td>0.000000</td>\n    </tr>\n    <tr>\n      <th>78884</th>\n      <td>0.000000</td>\n      <td>0.000000</td>\n      <td>0.000000</td>\n      <td>0.000000</td>\n      <td>0.000000</td>\n      <td>0.000000</td>\n      <td>0.000000</td>\n      <td>0.000000</td>\n      <td>0.000000</td>\n      <td>0.000000</td>\n      <td>...</td>\n      <td>0.000000</td>\n      <td>0.000000</td>\n      <td>0.000000</td>\n      <td>0.000000</td>\n      <td>0.000000</td>\n      <td>0.000000</td>\n      <td>0.000000</td>\n      <td>0.000000</td>\n      <td>0.000000</td>\n      <td>0.000000</td>\n    </tr>\n    <tr>\n      <th>78885</th>\n      <td>0.000000</td>\n      <td>0.000000</td>\n      <td>0.000000</td>\n      <td>0.000000</td>\n      <td>0.000000</td>\n      <td>0.000000</td>\n      <td>0.000000</td>\n      <td>0.000000</td>\n      <td>0.000000</td>\n      <td>0.000000</td>\n      <td>...</td>\n      <td>0.000000</td>\n      <td>0.000000</td>\n      <td>0.000000</td>\n      <td>0.000000</td>\n      <td>0.000000</td>\n      <td>0.000000</td>\n      <td>0.000000</td>\n      <td>0.000000</td>\n      <td>0.000000</td>\n      <td>0.000000</td>\n    </tr>\n    <tr>\n      <th>78886</th>\n      <td>0.000000</td>\n      <td>0.000000</td>\n      <td>0.000000</td>\n      <td>0.000000</td>\n      <td>0.000000</td>\n      <td>0.000000</td>\n      <td>0.000000</td>\n      <td>0.000000</td>\n      <td>0.000000</td>\n      <td>0.000000</td>\n      <td>...</td>\n      <td>0.000000</td>\n      <td>0.000000</td>\n      <td>0.000000</td>\n      <td>0.000000</td>\n      <td>0.000000</td>\n      <td>0.000000</td>\n      <td>0.000000</td>\n      <td>0.000000</td>\n      <td>0.000000</td>\n      <td>0.000000</td>\n    </tr>\n  </tbody>\n</table>\n<p>78887 rows × 63 columns</p>\n</div>"
     },
     "metadata": {},
     "execution_count": 48
    }
   ],
   "source": [
    "df_ghi"
   ]
  },
  {
   "cell_type": "code",
   "execution_count": 71,
   "metadata": {},
   "outputs": [],
   "source": [
    "# need to add empty row since time series has 78888 rows and these ghi/temp/wind datasets only have 78887\n",
    "df_ghi = df_ghi.append(pd.Series(), ignore_index = True).set_index(times)\n",
    "df_temp = df_temp.append(pd.Series(), ignore_index = True).set_index(times)\n",
    "df_wind = df_wind.append(pd.Series(), ignore_index = True).set_index(times)"
   ]
  },
  {
   "cell_type": "code",
   "execution_count": 78,
   "metadata": {},
   "outputs": [
    {
     "output_type": "execute_result",
     "data": {
      "text/plain": [
       "                                   0           1           2           3   \\\n",
       "1981-01-01 00:00:00+00:00    0.000000    0.000000    0.000000    0.000000   \n",
       "1981-01-01 01:00:00+00:00   33.252963   40.950408   34.330605   56.191349   \n",
       "1981-01-01 02:00:00+00:00  221.532469  238.312899  218.761388  249.397220   \n",
       "1981-01-01 03:00:00+00:00  445.220222  458.151930  438.138572  453.379514   \n",
       "1981-01-01 04:00:00+00:00  637.502399  642.736662  625.648334  628.419414   \n",
       "...                               ...         ...         ...         ...   \n",
       "1989-12-31 19:00:00+00:00    0.000000    0.000000    0.000000    0.000000   \n",
       "1989-12-31 20:00:00+00:00    0.000000    0.000000    0.000000    0.000000   \n",
       "1989-12-31 21:00:00+00:00    0.000000    0.000000    0.000000    0.000000   \n",
       "1989-12-31 22:00:00+00:00    0.000000    0.000000    0.000000    0.000000   \n",
       "1989-12-31 23:00:00+00:00         NaN         NaN         NaN         NaN   \n",
       "\n",
       "                                   4           5           6           7   \\\n",
       "1981-01-01 00:00:00+00:00    0.000000    0.000000    0.000000    0.000000   \n",
       "1981-01-01 01:00:00+00:00  151.177821   92.369341   30.943729   64.350641   \n",
       "1981-01-01 02:00:00+00:00  364.858896  278.955409  186.278170  255.093329   \n",
       "1981-01-01 03:00:00+00:00  525.427599  448.914995  371.170800  447.375506   \n",
       "1981-01-01 04:00:00+00:00  606.250772  598.553327  523.888110  598.091481   \n",
       "...                               ...         ...         ...         ...   \n",
       "1989-12-31 19:00:00+00:00    0.000000    0.000000    0.000000    0.000000   \n",
       "1989-12-31 20:00:00+00:00    0.000000    0.000000    0.000000    0.000000   \n",
       "1989-12-31 21:00:00+00:00    0.000000    0.000000    0.000000    0.000000   \n",
       "1989-12-31 22:00:00+00:00    0.000000    0.000000    0.000000    0.000000   \n",
       "1989-12-31 23:00:00+00:00         NaN         NaN         NaN         NaN   \n",
       "\n",
       "                                   8           9   ...          53  \\\n",
       "1981-01-01 00:00:00+00:00    0.000000    0.000000  ...    0.000000   \n",
       "1981-01-01 01:00:00+00:00   41.566203    1.539489  ...    0.000000   \n",
       "1981-01-01 02:00:00+00:00  225.689089  101.144428  ...   67.583568   \n",
       "1981-01-01 03:00:00+00:00  429.671383  290.039730  ...  255.247278   \n",
       "1981-01-01 04:00:00+00:00  596.859889  462.462499  ...  440.909653   \n",
       "...                               ...         ...  ...         ...   \n",
       "1989-12-31 19:00:00+00:00    0.000000    0.000000  ...    0.000000   \n",
       "1989-12-31 20:00:00+00:00    0.000000    0.000000  ...    0.000000   \n",
       "1989-12-31 21:00:00+00:00    0.000000    0.000000  ...    0.000000   \n",
       "1989-12-31 22:00:00+00:00    0.000000    0.000000  ...    0.000000   \n",
       "1989-12-31 23:00:00+00:00         NaN         NaN  ...         NaN   \n",
       "\n",
       "                                   54          55          56          57  \\\n",
       "1981-01-01 00:00:00+00:00    0.000000    0.000000    0.000000    0.000000   \n",
       "1981-01-01 01:00:00+00:00    0.000000    0.000000   16.318584   31.559525   \n",
       "1981-01-01 02:00:00+00:00   49.417597   66.659874   51.880780  212.141586   \n",
       "1981-01-01 03:00:00+00:00  232.924687  259.403898  126.392048  430.749025   \n",
       "1981-01-01 04:00:00+00:00  425.360814  451.686076  215.990308  615.949553   \n",
       "...                               ...         ...         ...         ...   \n",
       "1989-12-31 19:00:00+00:00    0.000000    0.000000    0.000000    0.000000   \n",
       "1989-12-31 20:00:00+00:00    0.000000    0.000000    0.000000    0.000000   \n",
       "1989-12-31 21:00:00+00:00    0.000000    0.000000    0.000000    0.000000   \n",
       "1989-12-31 22:00:00+00:00    0.000000    0.000000    0.000000    0.000000   \n",
       "1989-12-31 23:00:00+00:00         NaN         NaN         NaN         NaN   \n",
       "\n",
       "                                   58          59          60          61  \\\n",
       "1981-01-01 00:00:00+00:00    0.000000    0.000000    0.000000    0.000000   \n",
       "1981-01-01 01:00:00+00:00   23.862080    2.771080   26.787109    5.234263   \n",
       "1981-01-01 02:00:00+00:00  193.513769  110.535311  185.816324  124.698610   \n",
       "1981-01-01 03:00:00+00:00  406.425099  299.122715  376.559012  313.439963   \n",
       "1981-01-01 04:00:00+00:00  589.162444  468.466506  518.961745  478.781082   \n",
       "...                               ...         ...         ...         ...   \n",
       "1989-12-31 19:00:00+00:00    0.000000    0.000000    0.000000    0.000000   \n",
       "1989-12-31 20:00:00+00:00    0.000000    0.000000    0.000000    0.000000   \n",
       "1989-12-31 21:00:00+00:00    0.000000    0.000000    0.000000    0.000000   \n",
       "1989-12-31 22:00:00+00:00    0.000000    0.000000    0.000000    0.000000   \n",
       "1989-12-31 23:00:00+00:00         NaN         NaN         NaN         NaN   \n",
       "\n",
       "                                   62  \n",
       "1981-01-01 00:00:00+00:00    0.000000  \n",
       "1981-01-01 01:00:00+00:00  103.607610  \n",
       "1981-01-01 02:00:00+00:00  304.203028  \n",
       "1981-01-01 03:00:00+00:00  493.868075  \n",
       "1981-01-01 04:00:00+00:00  637.040553  \n",
       "...                               ...  \n",
       "1989-12-31 19:00:00+00:00    0.000000  \n",
       "1989-12-31 20:00:00+00:00    0.000000  \n",
       "1989-12-31 21:00:00+00:00    0.000000  \n",
       "1989-12-31 22:00:00+00:00    0.000000  \n",
       "1989-12-31 23:00:00+00:00         NaN  \n",
       "\n",
       "[78888 rows x 63 columns]"
      ],
      "text/html": "<div>\n<style scoped>\n    .dataframe tbody tr th:only-of-type {\n        vertical-align: middle;\n    }\n\n    .dataframe tbody tr th {\n        vertical-align: top;\n    }\n\n    .dataframe thead th {\n        text-align: right;\n    }\n</style>\n<table border=\"1\" class=\"dataframe\">\n  <thead>\n    <tr style=\"text-align: right;\">\n      <th></th>\n      <th>0</th>\n      <th>1</th>\n      <th>2</th>\n      <th>3</th>\n      <th>4</th>\n      <th>5</th>\n      <th>6</th>\n      <th>7</th>\n      <th>8</th>\n      <th>9</th>\n      <th>...</th>\n      <th>53</th>\n      <th>54</th>\n      <th>55</th>\n      <th>56</th>\n      <th>57</th>\n      <th>58</th>\n      <th>59</th>\n      <th>60</th>\n      <th>61</th>\n      <th>62</th>\n    </tr>\n  </thead>\n  <tbody>\n    <tr>\n      <th>1981-01-01 00:00:00+00:00</th>\n      <td>0.000000</td>\n      <td>0.000000</td>\n      <td>0.000000</td>\n      <td>0.000000</td>\n      <td>0.000000</td>\n      <td>0.000000</td>\n      <td>0.000000</td>\n      <td>0.000000</td>\n      <td>0.000000</td>\n      <td>0.000000</td>\n      <td>...</td>\n      <td>0.000000</td>\n      <td>0.000000</td>\n      <td>0.000000</td>\n      <td>0.000000</td>\n      <td>0.000000</td>\n      <td>0.000000</td>\n      <td>0.000000</td>\n      <td>0.000000</td>\n      <td>0.000000</td>\n      <td>0.000000</td>\n    </tr>\n    <tr>\n      <th>1981-01-01 01:00:00+00:00</th>\n      <td>33.252963</td>\n      <td>40.950408</td>\n      <td>34.330605</td>\n      <td>56.191349</td>\n      <td>151.177821</td>\n      <td>92.369341</td>\n      <td>30.943729</td>\n      <td>64.350641</td>\n      <td>41.566203</td>\n      <td>1.539489</td>\n      <td>...</td>\n      <td>0.000000</td>\n      <td>0.000000</td>\n      <td>0.000000</td>\n      <td>16.318584</td>\n      <td>31.559525</td>\n      <td>23.862080</td>\n      <td>2.771080</td>\n      <td>26.787109</td>\n      <td>5.234263</td>\n      <td>103.607610</td>\n    </tr>\n    <tr>\n      <th>1981-01-01 02:00:00+00:00</th>\n      <td>221.532469</td>\n      <td>238.312899</td>\n      <td>218.761388</td>\n      <td>249.397220</td>\n      <td>364.858896</td>\n      <td>278.955409</td>\n      <td>186.278170</td>\n      <td>255.093329</td>\n      <td>225.689089</td>\n      <td>101.144428</td>\n      <td>...</td>\n      <td>67.583568</td>\n      <td>49.417597</td>\n      <td>66.659874</td>\n      <td>51.880780</td>\n      <td>212.141586</td>\n      <td>193.513769</td>\n      <td>110.535311</td>\n      <td>185.816324</td>\n      <td>124.698610</td>\n      <td>304.203028</td>\n    </tr>\n    <tr>\n      <th>1981-01-01 03:00:00+00:00</th>\n      <td>445.220222</td>\n      <td>458.151930</td>\n      <td>438.138572</td>\n      <td>453.379514</td>\n      <td>525.427599</td>\n      <td>448.914995</td>\n      <td>371.170800</td>\n      <td>447.375506</td>\n      <td>429.671383</td>\n      <td>290.039730</td>\n      <td>...</td>\n      <td>255.247278</td>\n      <td>232.924687</td>\n      <td>259.403898</td>\n      <td>126.392048</td>\n      <td>430.749025</td>\n      <td>406.425099</td>\n      <td>299.122715</td>\n      <td>376.559012</td>\n      <td>313.439963</td>\n      <td>493.868075</td>\n    </tr>\n    <tr>\n      <th>1981-01-01 04:00:00+00:00</th>\n      <td>637.502399</td>\n      <td>642.736662</td>\n      <td>625.648334</td>\n      <td>628.419414</td>\n      <td>606.250772</td>\n      <td>598.553327</td>\n      <td>523.888110</td>\n      <td>598.091481</td>\n      <td>596.859889</td>\n      <td>462.462499</td>\n      <td>...</td>\n      <td>440.909653</td>\n      <td>425.360814</td>\n      <td>451.686076</td>\n      <td>215.990308</td>\n      <td>615.949553</td>\n      <td>589.162444</td>\n      <td>468.466506</td>\n      <td>518.961745</td>\n      <td>478.781082</td>\n      <td>637.040553</td>\n    </tr>\n    <tr>\n      <th>...</th>\n      <td>...</td>\n      <td>...</td>\n      <td>...</td>\n      <td>...</td>\n      <td>...</td>\n      <td>...</td>\n      <td>...</td>\n      <td>...</td>\n      <td>...</td>\n      <td>...</td>\n      <td>...</td>\n      <td>...</td>\n      <td>...</td>\n      <td>...</td>\n      <td>...</td>\n      <td>...</td>\n      <td>...</td>\n      <td>...</td>\n      <td>...</td>\n      <td>...</td>\n      <td>...</td>\n    </tr>\n    <tr>\n      <th>1989-12-31 19:00:00+00:00</th>\n      <td>0.000000</td>\n      <td>0.000000</td>\n      <td>0.000000</td>\n      <td>0.000000</td>\n      <td>0.000000</td>\n      <td>0.000000</td>\n      <td>0.000000</td>\n      <td>0.000000</td>\n      <td>0.000000</td>\n      <td>0.000000</td>\n      <td>...</td>\n      <td>0.000000</td>\n      <td>0.000000</td>\n      <td>0.000000</td>\n      <td>0.000000</td>\n      <td>0.000000</td>\n      <td>0.000000</td>\n      <td>0.000000</td>\n      <td>0.000000</td>\n      <td>0.000000</td>\n      <td>0.000000</td>\n    </tr>\n    <tr>\n      <th>1989-12-31 20:00:00+00:00</th>\n      <td>0.000000</td>\n      <td>0.000000</td>\n      <td>0.000000</td>\n      <td>0.000000</td>\n      <td>0.000000</td>\n      <td>0.000000</td>\n      <td>0.000000</td>\n      <td>0.000000</td>\n      <td>0.000000</td>\n      <td>0.000000</td>\n      <td>...</td>\n      <td>0.000000</td>\n      <td>0.000000</td>\n      <td>0.000000</td>\n      <td>0.000000</td>\n      <td>0.000000</td>\n      <td>0.000000</td>\n      <td>0.000000</td>\n      <td>0.000000</td>\n      <td>0.000000</td>\n      <td>0.000000</td>\n    </tr>\n    <tr>\n      <th>1989-12-31 21:00:00+00:00</th>\n      <td>0.000000</td>\n      <td>0.000000</td>\n      <td>0.000000</td>\n      <td>0.000000</td>\n      <td>0.000000</td>\n      <td>0.000000</td>\n      <td>0.000000</td>\n      <td>0.000000</td>\n      <td>0.000000</td>\n      <td>0.000000</td>\n      <td>...</td>\n      <td>0.000000</td>\n      <td>0.000000</td>\n      <td>0.000000</td>\n      <td>0.000000</td>\n      <td>0.000000</td>\n      <td>0.000000</td>\n      <td>0.000000</td>\n      <td>0.000000</td>\n      <td>0.000000</td>\n      <td>0.000000</td>\n    </tr>\n    <tr>\n      <th>1989-12-31 22:00:00+00:00</th>\n      <td>0.000000</td>\n      <td>0.000000</td>\n      <td>0.000000</td>\n      <td>0.000000</td>\n      <td>0.000000</td>\n      <td>0.000000</td>\n      <td>0.000000</td>\n      <td>0.000000</td>\n      <td>0.000000</td>\n      <td>0.000000</td>\n      <td>...</td>\n      <td>0.000000</td>\n      <td>0.000000</td>\n      <td>0.000000</td>\n      <td>0.000000</td>\n      <td>0.000000</td>\n      <td>0.000000</td>\n      <td>0.000000</td>\n      <td>0.000000</td>\n      <td>0.000000</td>\n      <td>0.000000</td>\n    </tr>\n    <tr>\n      <th>1989-12-31 23:00:00+00:00</th>\n      <td>NaN</td>\n      <td>NaN</td>\n      <td>NaN</td>\n      <td>NaN</td>\n      <td>NaN</td>\n      <td>NaN</td>\n      <td>NaN</td>\n      <td>NaN</td>\n      <td>NaN</td>\n      <td>NaN</td>\n      <td>...</td>\n      <td>NaN</td>\n      <td>NaN</td>\n      <td>NaN</td>\n      <td>NaN</td>\n      <td>NaN</td>\n      <td>NaN</td>\n      <td>NaN</td>\n      <td>NaN</td>\n      <td>NaN</td>\n      <td>NaN</td>\n    </tr>\n  </tbody>\n</table>\n<p>78888 rows × 63 columns</p>\n</div>"
     },
     "metadata": {},
     "execution_count": 78
    }
   ],
   "source": [
    "df_ghi"
   ]
  },
  {
   "cell_type": "code",
   "execution_count": 9,
   "metadata": {},
   "outputs": [],
   "source": [
    "location = Location(latitude = df_locations.iloc[0].Latitude, longitude = df_locations.iloc[0].Longitude, altitude = df_locations.iloc[0].Altitude, name = df_locations.iloc[0].State)"
   ]
  },
  {
   "cell_type": "code",
   "execution_count": 75,
   "metadata": {},
   "outputs": [],
   "source": [
    "# df_temp.set_index(times)"
   ]
  },
  {
   "cell_type": "code",
   "execution_count": 29,
   "metadata": {},
   "outputs": [],
   "source": [
    "solpos = pvlib.solarposition.pyephem(times, \n",
    "                                     latitude = df_locations.iloc[0].Latitude, \n",
    "                                     longitude = df_locations.iloc[0].Longitude, \n",
    "                                     altitude = df_locations.iloc[0].Altitude, \n",
    "                                     pressure = 101325, \n",
    "                                     temperature = df_temp[0].mean(), \n",
    "                                     horizon = '+0:00')"
   ]
  },
  {
   "cell_type": "code",
   "execution_count": 32,
   "metadata": {},
   "outputs": [
    {
     "output_type": "execute_result",
     "data": {
      "text/plain": [
       "1981-01-01 00:00:00+00:00    107.714587\n",
       "1981-01-01 01:00:00+00:00     94.189533\n",
       "1981-01-01 02:00:00+00:00     80.999765\n",
       "1981-01-01 03:00:00+00:00     68.372025\n",
       "1981-01-01 04:00:00+00:00     56.707407\n",
       "                                ...    \n",
       "1989-12-31 19:00:00+00:00    171.390139\n",
       "1989-12-31 20:00:00+00:00    162.099409\n",
       "1989-12-31 21:00:00+00:00    148.911351\n",
       "1989-12-31 22:00:00+00:00    135.197926\n",
       "1989-12-31 23:00:00+00:00    121.406938\n",
       "Name: zenith, Length: 78888, dtype: float64"
      ]
     },
     "metadata": {},
     "execution_count": 32
    }
   ],
   "source": [
    "solpos['zenith']"
   ]
  },
  {
   "cell_type": "code",
   "execution_count": 235,
   "metadata": {},
   "outputs": [],
   "source": [
    "# "
   ]
  },
  {
   "cell_type": "code",
   "execution_count": 212,
   "metadata": {},
   "outputs": [],
   "source": [
    "df_res = pd.concat([df_ghi[0].rename('ghi'), df_temp[0].rename('temp'), df_wind[0].rename('wind'), solpos['zenith']], axis = 1)"
   ]
  },
  {
   "cell_type": "code",
   "execution_count": 213,
   "metadata": {},
   "outputs": [],
   "source": [
    "# df_res"
   ]
  },
  {
   "cell_type": "code",
   "execution_count": 214,
   "metadata": {},
   "outputs": [],
   "source": [
    "# df_res.index = df_res.index.rename(\"time_index\")"
   ]
  },
  {
   "cell_type": "code",
   "execution_count": 217,
   "metadata": {},
   "outputs": [
    {
     "output_type": "execute_result",
     "data": {
      "text/plain": [
       "                                  ghi       temp      wind      zenith\n",
       "1981-01-01 00:00:00+00:00    0.000000  17.175718  0.438808  107.714587\n",
       "1981-01-01 01:00:00+00:00   33.252963  17.978034  0.269089   94.189533\n",
       "1981-01-01 02:00:00+00:00  221.532469  20.366359  0.444256   80.999765\n",
       "1981-01-01 03:00:00+00:00  445.220222  23.165929  0.903431   68.372025\n",
       "1981-01-01 04:00:00+00:00  637.502399  25.381997  1.295893   56.707407\n",
       "...                               ...        ...       ...         ...\n",
       "1989-12-31 19:00:00+00:00    0.000000  23.406468  0.907779  171.390139\n",
       "1989-12-31 20:00:00+00:00    0.000000  23.013846  0.915597  162.099409\n",
       "1989-12-31 21:00:00+00:00    0.000000  22.624327  0.868533  148.911351\n",
       "1989-12-31 22:00:00+00:00    0.000000  21.984957  0.730704  135.197926\n",
       "1989-12-31 23:00:00+00:00         NaN        NaN       NaN  121.406938\n",
       "\n",
       "[78888 rows x 4 columns]"
      ],
      "text/html": "<div>\n<style scoped>\n    .dataframe tbody tr th:only-of-type {\n        vertical-align: middle;\n    }\n\n    .dataframe tbody tr th {\n        vertical-align: top;\n    }\n\n    .dataframe thead th {\n        text-align: right;\n    }\n</style>\n<table border=\"1\" class=\"dataframe\">\n  <thead>\n    <tr style=\"text-align: right;\">\n      <th></th>\n      <th>ghi</th>\n      <th>temp</th>\n      <th>wind</th>\n      <th>zenith</th>\n    </tr>\n  </thead>\n  <tbody>\n    <tr>\n      <th>1981-01-01 00:00:00+00:00</th>\n      <td>0.000000</td>\n      <td>17.175718</td>\n      <td>0.438808</td>\n      <td>107.714587</td>\n    </tr>\n    <tr>\n      <th>1981-01-01 01:00:00+00:00</th>\n      <td>33.252963</td>\n      <td>17.978034</td>\n      <td>0.269089</td>\n      <td>94.189533</td>\n    </tr>\n    <tr>\n      <th>1981-01-01 02:00:00+00:00</th>\n      <td>221.532469</td>\n      <td>20.366359</td>\n      <td>0.444256</td>\n      <td>80.999765</td>\n    </tr>\n    <tr>\n      <th>1981-01-01 03:00:00+00:00</th>\n      <td>445.220222</td>\n      <td>23.165929</td>\n      <td>0.903431</td>\n      <td>68.372025</td>\n    </tr>\n    <tr>\n      <th>1981-01-01 04:00:00+00:00</th>\n      <td>637.502399</td>\n      <td>25.381997</td>\n      <td>1.295893</td>\n      <td>56.707407</td>\n    </tr>\n    <tr>\n      <th>...</th>\n      <td>...</td>\n      <td>...</td>\n      <td>...</td>\n      <td>...</td>\n    </tr>\n    <tr>\n      <th>1989-12-31 19:00:00+00:00</th>\n      <td>0.000000</td>\n      <td>23.406468</td>\n      <td>0.907779</td>\n      <td>171.390139</td>\n    </tr>\n    <tr>\n      <th>1989-12-31 20:00:00+00:00</th>\n      <td>0.000000</td>\n      <td>23.013846</td>\n      <td>0.915597</td>\n      <td>162.099409</td>\n    </tr>\n    <tr>\n      <th>1989-12-31 21:00:00+00:00</th>\n      <td>0.000000</td>\n      <td>22.624327</td>\n      <td>0.868533</td>\n      <td>148.911351</td>\n    </tr>\n    <tr>\n      <th>1989-12-31 22:00:00+00:00</th>\n      <td>0.000000</td>\n      <td>21.984957</td>\n      <td>0.730704</td>\n      <td>135.197926</td>\n    </tr>\n    <tr>\n      <th>1989-12-31 23:00:00+00:00</th>\n      <td>NaN</td>\n      <td>NaN</td>\n      <td>NaN</td>\n      <td>121.406938</td>\n    </tr>\n  </tbody>\n</table>\n<p>78888 rows × 4 columns</p>\n</div>"
     },
     "metadata": {},
     "execution_count": 217
    }
   ],
   "source": [
    "df_res"
   ]
  },
  {
   "cell_type": "code",
   "execution_count": 229,
   "metadata": {},
   "outputs": [
    {
     "output_type": "stream",
     "name": "stdout",
     "text": [
      "5.95 s ± 0 ns per loop (mean ± std. dev. of 1 run, 1 loop each)\n"
     ]
    }
   ],
   "source": [
    "%%timeit -r1\n",
    "pd.Series([pvlib.irradiance.disc(ghi, zen, i)['dni'] for ghi, zen, i in zip(df_res.ghi, df_res.zenith, df_res.index)]).astype(np.float64)"
   ]
  },
  {
   "cell_type": "code",
   "execution_count": 230,
   "metadata": {},
   "outputs": [
    {
     "output_type": "stream",
     "name": "stdout",
     "text": [
      "8.9 s ± 0 ns per loop (mean ± std. dev. of 1 run, 1 loop each)\n"
     ]
    }
   ],
   "source": [
    "%%timeit -r1\n",
    "df_res.apply(lambda row: pvlib.irradiance.disc(row.ghi, row.zenith, row.name)['dni'], axis = 1).astype(np.float64)"
   ]
  },
  {
   "cell_type": "code",
   "execution_count": 199,
   "metadata": {},
   "outputs": [],
   "source": [
    "df_res['dni'] = df_res.apply(lambda row: pvlib.irradiance.disc(row.ghi, row.zenith, row.name)['dni'], axis = 1).astype(np.float64)"
   ]
  },
  {
   "cell_type": "code",
   "execution_count": 200,
   "metadata": {},
   "outputs": [],
   "source": [
    "df_res['dhi'] = df_res['ghi'] - df_res['dni']*np.cos(np.radians(df_res['zenith']))"
   ]
  },
  {
   "cell_type": "code",
   "execution_count": 201,
   "metadata": {},
   "outputs": [
    {
     "output_type": "execute_result",
     "data": {
      "text/plain": [
       "ghi       float64\n",
       "temp      float64\n",
       "wind      float64\n",
       "zenith    float64\n",
       "dni       float64\n",
       "dhi       float64\n",
       "dtype: object"
      ]
     },
     "metadata": {},
     "execution_count": 201
    }
   ],
   "source": [
    "df_res.dtypes"
   ]
  },
  {
   "cell_type": "code",
   "execution_count": 202,
   "metadata": {},
   "outputs": [],
   "source": [
    "weather = df_res.rename({'temp': 'temp_air', 'wind': 'wind_speed'}, axis = 1).drop('zenith', axis = 1)"
   ]
  },
  {
   "cell_type": "code",
   "execution_count": 203,
   "metadata": {},
   "outputs": [
    {
     "output_type": "execute_result",
     "data": {
      "text/plain": [
       "                                  ghi   temp_air  wind_speed         dni  \\\n",
       "1981-01-01 00:00:00+00:00    0.000000  17.175718    0.438808    0.000000   \n",
       "1981-01-01 01:00:00+00:00   33.252963  17.978034    0.269089    0.000000   \n",
       "1981-01-01 02:00:00+00:00  221.532469  20.366359    0.444256  491.170297   \n",
       "1981-01-01 03:00:00+00:00  445.220222  23.165929    0.903431  870.187130   \n",
       "1981-01-01 04:00:00+00:00  637.502399  25.381997    1.295893  965.556811   \n",
       "...                               ...        ...         ...         ...   \n",
       "1989-12-31 19:00:00+00:00    0.000000  23.406468    0.907779    0.000000   \n",
       "1989-12-31 20:00:00+00:00    0.000000  23.013846    0.915597    0.000000   \n",
       "1989-12-31 21:00:00+00:00    0.000000  22.624327    0.868533    0.000000   \n",
       "1989-12-31 22:00:00+00:00    0.000000  21.984957    0.730704    0.000000   \n",
       "1989-12-31 23:00:00+00:00         NaN        NaN         NaN    0.000000   \n",
       "\n",
       "                                  dhi  \n",
       "1981-01-01 00:00:00+00:00    0.000000  \n",
       "1981-01-01 01:00:00+00:00   33.252963  \n",
       "1981-01-01 02:00:00+00:00  144.694516  \n",
       "1981-01-01 03:00:00+00:00  124.487974  \n",
       "1981-01-01 04:00:00+00:00  107.494017  \n",
       "...                               ...  \n",
       "1989-12-31 19:00:00+00:00    0.000000  \n",
       "1989-12-31 20:00:00+00:00    0.000000  \n",
       "1989-12-31 21:00:00+00:00    0.000000  \n",
       "1989-12-31 22:00:00+00:00    0.000000  \n",
       "1989-12-31 23:00:00+00:00         NaN  \n",
       "\n",
       "[78888 rows x 5 columns]"
      ],
      "text/html": "<div>\n<style scoped>\n    .dataframe tbody tr th:only-of-type {\n        vertical-align: middle;\n    }\n\n    .dataframe tbody tr th {\n        vertical-align: top;\n    }\n\n    .dataframe thead th {\n        text-align: right;\n    }\n</style>\n<table border=\"1\" class=\"dataframe\">\n  <thead>\n    <tr style=\"text-align: right;\">\n      <th></th>\n      <th>ghi</th>\n      <th>temp_air</th>\n      <th>wind_speed</th>\n      <th>dni</th>\n      <th>dhi</th>\n    </tr>\n  </thead>\n  <tbody>\n    <tr>\n      <th>1981-01-01 00:00:00+00:00</th>\n      <td>0.000000</td>\n      <td>17.175718</td>\n      <td>0.438808</td>\n      <td>0.000000</td>\n      <td>0.000000</td>\n    </tr>\n    <tr>\n      <th>1981-01-01 01:00:00+00:00</th>\n      <td>33.252963</td>\n      <td>17.978034</td>\n      <td>0.269089</td>\n      <td>0.000000</td>\n      <td>33.252963</td>\n    </tr>\n    <tr>\n      <th>1981-01-01 02:00:00+00:00</th>\n      <td>221.532469</td>\n      <td>20.366359</td>\n      <td>0.444256</td>\n      <td>491.170297</td>\n      <td>144.694516</td>\n    </tr>\n    <tr>\n      <th>1981-01-01 03:00:00+00:00</th>\n      <td>445.220222</td>\n      <td>23.165929</td>\n      <td>0.903431</td>\n      <td>870.187130</td>\n      <td>124.487974</td>\n    </tr>\n    <tr>\n      <th>1981-01-01 04:00:00+00:00</th>\n      <td>637.502399</td>\n      <td>25.381997</td>\n      <td>1.295893</td>\n      <td>965.556811</td>\n      <td>107.494017</td>\n    </tr>\n    <tr>\n      <th>...</th>\n      <td>...</td>\n      <td>...</td>\n      <td>...</td>\n      <td>...</td>\n      <td>...</td>\n    </tr>\n    <tr>\n      <th>1989-12-31 19:00:00+00:00</th>\n      <td>0.000000</td>\n      <td>23.406468</td>\n      <td>0.907779</td>\n      <td>0.000000</td>\n      <td>0.000000</td>\n    </tr>\n    <tr>\n      <th>1989-12-31 20:00:00+00:00</th>\n      <td>0.000000</td>\n      <td>23.013846</td>\n      <td>0.915597</td>\n      <td>0.000000</td>\n      <td>0.000000</td>\n    </tr>\n    <tr>\n      <th>1989-12-31 21:00:00+00:00</th>\n      <td>0.000000</td>\n      <td>22.624327</td>\n      <td>0.868533</td>\n      <td>0.000000</td>\n      <td>0.000000</td>\n    </tr>\n    <tr>\n      <th>1989-12-31 22:00:00+00:00</th>\n      <td>0.000000</td>\n      <td>21.984957</td>\n      <td>0.730704</td>\n      <td>0.000000</td>\n      <td>0.000000</td>\n    </tr>\n    <tr>\n      <th>1989-12-31 23:00:00+00:00</th>\n      <td>NaN</td>\n      <td>NaN</td>\n      <td>NaN</td>\n      <td>0.000000</td>\n      <td>NaN</td>\n    </tr>\n  </tbody>\n</table>\n<p>78888 rows × 5 columns</p>\n</div>"
     },
     "metadata": {},
     "execution_count": 203
    }
   ],
   "source": [
    "weather"
   ]
  },
  {
   "cell_type": "code",
   "execution_count": 204,
   "metadata": {},
   "outputs": [],
   "source": [
    "# "
   ]
  },
  {
   "cell_type": "code",
   "execution_count": 205,
   "metadata": {},
   "outputs": [
    {
     "output_type": "execute_result",
     "data": {
      "text/plain": [
       "ModelChain: \n",
       "  name: None\n",
       "  orientation_strategy: None\n",
       "  clearsky_model: ineichen\n",
       "  transposition_model: haydavies\n",
       "  solar_position_method: nrel_numpy\n",
       "  airmass_model: kastenyoung1989\n",
       "  dc_model: pvwatts_dc\n",
       "  ac_model: pvwatts_inverter\n",
       "  aoi_model: physical_aoi_loss\n",
       "  spectral_model: no_spectral_loss\n",
       "  temperature_model: sapm_temp\n",
       "  losses_model: no_extra_losses"
      ]
     },
     "metadata": {},
     "execution_count": 205
    }
   ],
   "source": [
    "mc.run_model(weather)"
   ]
  },
  {
   "cell_type": "code",
   "execution_count": 206,
   "metadata": {},
   "outputs": [],
   "source": [
    "# "
   ]
  },
  {
   "cell_type": "code",
   "execution_count": 207,
   "metadata": {},
   "outputs": [],
   "source": [
    "df_acdc = pd.concat((mc.ac.rename('AC'), mc.dc.rename('DC')), axis = 1)"
   ]
  },
  {
   "cell_type": "code",
   "execution_count": 208,
   "metadata": {},
   "outputs": [
    {
     "output_type": "execute_result",
     "data": {
      "text/plain": [
       "                                   AC          DC\n",
       "1981-01-01 00:00:00+00:00    0.000000    0.000000\n",
       "1981-01-01 01:00:00+00:00    6.607207    8.169180\n",
       "1981-01-01 02:00:00+00:00   43.031806   45.397414\n",
       "1981-01-01 03:00:00+00:00   89.145846   92.804611\n",
       "1981-01-01 04:00:00+00:00  130.754626  135.849353\n",
       "...                               ...         ...\n",
       "1989-12-31 19:00:00+00:00    0.000000    0.000000\n",
       "1989-12-31 20:00:00+00:00    0.000000    0.000000\n",
       "1989-12-31 21:00:00+00:00    0.000000    0.000000\n",
       "1989-12-31 22:00:00+00:00    0.000000    0.000000\n",
       "1989-12-31 23:00:00+00:00    0.000000         NaN\n",
       "\n",
       "[78888 rows x 2 columns]"
      ],
      "text/html": "<div>\n<style scoped>\n    .dataframe tbody tr th:only-of-type {\n        vertical-align: middle;\n    }\n\n    .dataframe tbody tr th {\n        vertical-align: top;\n    }\n\n    .dataframe thead th {\n        text-align: right;\n    }\n</style>\n<table border=\"1\" class=\"dataframe\">\n  <thead>\n    <tr style=\"text-align: right;\">\n      <th></th>\n      <th>AC</th>\n      <th>DC</th>\n    </tr>\n  </thead>\n  <tbody>\n    <tr>\n      <th>1981-01-01 00:00:00+00:00</th>\n      <td>0.000000</td>\n      <td>0.000000</td>\n    </tr>\n    <tr>\n      <th>1981-01-01 01:00:00+00:00</th>\n      <td>6.607207</td>\n      <td>8.169180</td>\n    </tr>\n    <tr>\n      <th>1981-01-01 02:00:00+00:00</th>\n      <td>43.031806</td>\n      <td>45.397414</td>\n    </tr>\n    <tr>\n      <th>1981-01-01 03:00:00+00:00</th>\n      <td>89.145846</td>\n      <td>92.804611</td>\n    </tr>\n    <tr>\n      <th>1981-01-01 04:00:00+00:00</th>\n      <td>130.754626</td>\n      <td>135.849353</td>\n    </tr>\n    <tr>\n      <th>...</th>\n      <td>...</td>\n      <td>...</td>\n    </tr>\n    <tr>\n      <th>1989-12-31 19:00:00+00:00</th>\n      <td>0.000000</td>\n      <td>0.000000</td>\n    </tr>\n    <tr>\n      <th>1989-12-31 20:00:00+00:00</th>\n      <td>0.000000</td>\n      <td>0.000000</td>\n    </tr>\n    <tr>\n      <th>1989-12-31 21:00:00+00:00</th>\n      <td>0.000000</td>\n      <td>0.000000</td>\n    </tr>\n    <tr>\n      <th>1989-12-31 22:00:00+00:00</th>\n      <td>0.000000</td>\n      <td>0.000000</td>\n    </tr>\n    <tr>\n      <th>1989-12-31 23:00:00+00:00</th>\n      <td>0.000000</td>\n      <td>NaN</td>\n    </tr>\n  </tbody>\n</table>\n<p>78888 rows × 2 columns</p>\n</div>"
     },
     "metadata": {},
     "execution_count": 208
    }
   ],
   "source": [
    "df_acdc"
   ]
  },
  {
   "cell_type": "code",
   "execution_count": null,
   "metadata": {},
   "outputs": [],
   "source": []
  }
 ]
}